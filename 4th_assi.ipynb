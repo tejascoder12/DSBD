{
  "nbformat": 4,
  "nbformat_minor": 0,
  "metadata": {
    "colab": {
      "provenance": [],
      "authorship_tag": "ABX9TyOcgdxIPo59saZSl6qI2G6Y",
      "include_colab_link": true
    },
    "kernelspec": {
      "name": "python3",
      "display_name": "Python 3"
    },
    "language_info": {
      "name": "python"
    }
  },
  "cells": [
    {
      "cell_type": "markdown",
      "metadata": {
        "id": "view-in-github",
        "colab_type": "text"
      },
      "source": [
        "<a href=\"https://colab.research.google.com/github/tejascoder12/DSBD/blob/main/4th_assi.ipynb\" target=\"_parent\"><img src=\"https://colab.research.google.com/assets/colab-badge.svg\" alt=\"Open In Colab\"/></a>"
      ]
    },
    {
      "cell_type": "markdown",
      "source": [
        "\n",
        "\n",
        "```\n",
        "# This is formatted as code\n",
        "```\n",
        "##4th code assignment\n",
        "\n"
      ],
      "metadata": {
        "id": "z6jknTta8UFx"
      }
    },
    {
      "cell_type": "code",
      "execution_count": 1,
      "metadata": {
        "id": "xn5-sOG47zyy"
      },
      "outputs": [],
      "source": [
        "import pandas as pd\n",
        "import numpy as np\n",
        "\n",
        "\n"
      ]
    },
    {
      "cell_type": "code",
      "source": [
        "import matplotlib.pyplot as plt"
      ],
      "metadata": {
        "id": "oLCRey4f73hy"
      },
      "execution_count": 2,
      "outputs": []
    },
    {
      "cell_type": "code",
      "source": [
        "df=pd.read_csv(\"/home/ubuntu/Downloads/archive(3)/HousingData.csv\")\n",
        "\n",
        "df\n",
        "\n",
        "df.shape\n",
        "\n",
        "df.isnull().sum()\n",
        "\n",
        "df[\"CRIM\"].fillna(df[\"CRIM\"].mean(),inplace=True)\n",
        "df[\"ZN\"].fillna(df[\"ZN\"].mean(),inplace=True)\n",
        "df[\"INDUS\"].fillna(df[\"INDUS\"].mean(),inplace=True)\n",
        "df[\"CHAS\"].fillna(df[\"CHAS\"].mean(),inplace=True)\n",
        "df[\"AGE\"].fillna(df[\"AGE\"].mean(),inplace=True)\n",
        "df[\"LSTAT\"].fillna(df[\"LSTAT\"].mean(),inplace=True)\n",
        "df\n",
        "\n",
        "df.isnull().sum()\n",
        "\n",
        "x=df.drop([\"MEDV\"],axis = 1)\n",
        "\n",
        "\n",
        "x\n",
        "\n",
        "y=df[\"MEDV\"]\n",
        "y\n",
        "\n",
        "\n",
        "from sklearn.model_selection import train_test_split\n",
        "xtrain , xtest , ytrain , ytest = train_test_split(x,y,test_size=0.2,random_state=0\n",
        "\n",
        "from sklearn.linear_model import LinearRegression\n",
        "lm=LinearRegression()\n",
        "lm.fit(xtrain,ytrain)                                                 \n",
        "\n",
        "ytrain_pred = lm.predict(xtrain)\n",
        "ytest_pred = lm.predict(xtest)\n",
        "\n",
        "ytrain_pred\n",
        "\n",
        "\n",
        "ytest_pred\n",
        "\n",
        "\n",
        "lm.predict([[0.00632,18.0,2.31,0.0,0.538,6.575,65.200000,4.0900,1,296,15.3,396.90]])\n",
        "\n",
        "\n",
        "ytrain\n",
        "\n",
        "\n",
        "ytest\n",
        "\n",
        "\n",
        "df1=pd.DataFrame(ytrain_pred,ytrain)\n",
        "df2=pd.DataFrame(ytest_pred,ytest)\n",
        "\n",
        "\n",
        "df1\n",
        "\n",
        "df2\n",
        "\n",
        "from sklearn.metrics import mean_squared_error , r2_score\n",
        "mse=mean_squared_error(ytest,ytest_pred)\n",
        "print(mse)\n",
        "\n",
        "mse=mean_squared_error(ytrain_pred,ytrain)\n",
        "print(mse)\n",
        "\n",
        "r2=r2_score(ytest,ytest_pred)\n",
        "r2\n",
        "\n",
        "plt.scatter(ytrain,ytrain_pred,c='blue',marker='o',label='Training Data')\n",
        "plt.scatter(ytest,ytest_pred,c='lightgreen',marker='s',label='Test Data')\n",
        "plt.xlabel('True Values')\n",
        "plt.ylabel('Predicted')\n",
        "plt.title('True Value v/s Predicted Value')\n",
        "plt.legend(loc='upper left')\n",
        "plt.plot()\n",
        "plt.show()\n",
        "\n"
      ],
      "metadata": {
        "id": "yMkRligQ75iY"
      },
      "execution_count": null,
      "outputs": []
    },
    {
      "cell_type": "markdown",
      "source": [],
      "metadata": {
        "id": "QwblimVS8S8a"
      }
    }
  ]
}