{
  "nbformat": 4,
  "nbformat_minor": 0,
  "metadata": {
    "colab": {
      "provenance": [],
      "toc_visible": true,
      "authorship_tag": "ABX9TyP+aPoLVYVh6tgYJVoILM1k",
      "include_colab_link": true
    },
    "kernelspec": {
      "name": "python3",
      "display_name": "Python 3"
    },
    "language_info": {
      "name": "python"
    }
  },
  "cells": [
    {
      "cell_type": "markdown",
      "metadata": {
        "id": "view-in-github",
        "colab_type": "text"
      },
      "source": [
        "<a href=\"https://colab.research.google.com/github/tejascoder12/DSBD/blob/main/7th_assi.ipynb\" target=\"_parent\"><img src=\"https://colab.research.google.com/assets/colab-badge.svg\" alt=\"Open In Colab\"/></a>"
      ]
    },
    {
      "cell_type": "code",
      "execution_count": null,
      "metadata": {
        "id": "thP1LJStM0G-"
      },
      "outputs": [],
      "source": [
        "\n"
      ]
    },
    {
      "cell_type": "code",
      "source": [
        "import pandas as pd\n"
      ],
      "metadata": {
        "id": "-rO20LdANIAp"
      },
      "execution_count": null,
      "outputs": []
    },
    {
      "cell_type": "code",
      "source": [
        "import nltk"
      ],
      "metadata": {
        "id": "tXmnDjzPNwYn"
      },
      "execution_count": null,
      "outputs": []
    },
    {
      "cell_type": "code",
      "source": [
        "nltk.download('punkt')\n",
        "nltk.download('stopwords')\n",
        "nltk.download('wordnet')\n",
        "nltk.download('averaged_perceptron_tagger')"
      ],
      "metadata": {
        "colab": {
          "base_uri": "https://localhost:8080/"
        },
        "id": "DQfhiKO_N5vY",
        "outputId": "b6866ca0-e0ab-4cdf-ea5b-229af30c0534"
      },
      "execution_count": null,
      "outputs": [
        {
          "output_type": "stream",
          "name": "stderr",
          "text": [
            "[nltk_data] Downloading package punkt to /root/nltk_data...\n",
            "[nltk_data]   Unzipping tokenizers/punkt.zip.\n",
            "[nltk_data] Downloading package stopwords to /root/nltk_data...\n",
            "[nltk_data]   Unzipping corpora/stopwords.zip.\n",
            "[nltk_data] Downloading package wordnet to /root/nltk_data...\n",
            "[nltk_data] Downloading package averaged_perceptron_tagger to\n",
            "[nltk_data]     /root/nltk_data...\n",
            "[nltk_data]   Unzipping taggers/averaged_perceptron_tagger.zip.\n"
          ]
        },
        {
          "output_type": "execute_result",
          "data": {
            "text/plain": [
              "True"
            ]
          },
          "metadata": {},
          "execution_count": 5
        }
      ]
    },
    {
      "cell_type": "code",
      "source": [
        "text= \"Tokenization is the first step in text analytics.Tokenization replaces a sensitive data element, for example, a bank account number, with a non-sensitive substitute, known as a token. The token is a randomized data string that has no essential or exploitable value or meaning\""
      ],
      "metadata": {
        "id": "0DW4o_-dPcv4"
      },
      "execution_count": null,
      "outputs": []
    },
    {
      "cell_type": "markdown",
      "source": [
        "for sentence"
      ],
      "metadata": {
        "id": "E0g--buQayje"
      }
    },
    {
      "cell_type": "code",
      "source": [
        "from nltk.tokenize import sent_tokenize\n",
        "tokenized_text= sent_tokenize(text)\n",
        "print(tokenized_text)\n"
      ],
      "metadata": {
        "colab": {
          "base_uri": "https://localhost:8080/"
        },
        "id": "ZSulxEjiPtf5",
        "outputId": "0c593098-3b08-4cb5-a75b-2c83762686f7"
      },
      "execution_count": null,
      "outputs": [
        {
          "output_type": "stream",
          "name": "stdout",
          "text": [
            "['Tokenization is the first step in text analytics.Tokenization replaces a sensitive data element, for example, a bank account number, with a non-sensitive substitute, known as a token.', 'The token is a randomized data string that has no essential or exploitable value or meaning']\n"
          ]
        }
      ]
    },
    {
      "cell_type": "markdown",
      "source": [
        "\n",
        "\n",
        "```\n",
        "# This is formatted as code\n",
        "```\n",
        "\n",
        "##tokanized word\n",
        "\n"
      ],
      "metadata": {
        "id": "Ruk6BCh8R7SL"
      }
    },
    {
      "cell_type": "markdown",
      "source": [
        "for word\n"
      ],
      "metadata": {
        "id": "rZfeqOPua8b_"
      }
    },
    {
      "cell_type": "code",
      "source": [
        "from nltk.tokenize import word_tokenize\n",
        "tokenized_word=word_tokenize(text)\n",
        "print(tokenized_word)"
      ],
      "metadata": {
        "colab": {
          "base_uri": "https://localhost:8080/"
        },
        "id": "hlWgDGnYQYR4",
        "outputId": "0421e92a-447a-4b82-be0f-fec24b31879b"
      },
      "execution_count": null,
      "outputs": [
        {
          "output_type": "stream",
          "name": "stdout",
          "text": [
            "['Tokenization', 'is', 'the', 'first', 'step', 'in', 'text', 'analytics.Tokenization', 'replaces', 'a', 'sensitive', 'data', 'element', ',', 'for', 'example', ',', 'a', 'bank', 'account', 'number', ',', 'with', 'a', 'non-sensitive', 'substitute', ',', 'known', 'as', 'a', 'token', '.', 'The', 'token', 'is', 'a', 'randomized', 'data', 'string', 'that', 'has', 'no', 'essential', 'or', 'exploitable', 'value', 'or', 'meaning']\n"
          ]
        }
      ]
    },
    {
      "cell_type": "markdown",
      "source": [
        "for stop word \n",
        "\n",
        "```\n",
        "# This is formatted as code\n",
        "```\n",
        "\\\n",
        "\n",
        " \"a,\" \"an,\" \"the,\" \"is,\" \"and,\",etc\n",
        "  "
      ],
      "metadata": {
        "id": "eB2vf44TRgLr"
      }
    },
    {
      "cell_type": "code",
      "source": [
        "from nltk.corpus import stopwords\n",
        "stop_words=set(stopwords.words(\"english\"))\n",
        "print(stop_words)"
      ],
      "metadata": {
        "colab": {
          "base_uri": "https://localhost:8080/"
        },
        "id": "Kc0j0kOrQd9o",
        "outputId": "91bc6778-2794-43a1-c49c-f63f85645eaf"
      },
      "execution_count": null,
      "outputs": [
        {
          "output_type": "stream",
          "name": "stdout",
          "text": [
            "{'then', 'only', 'herself', 'as', 'before', 'down', 'until', \"couldn't\", 'on', 'himself', \"didn't\", 'being', 'each', 'who', 'now', 'll', 'yourself', 'after', 'same', \"mustn't\", 'what', 'yours', \"shouldn't\", \"doesn't\", 'under', 'wasn', \"she's\", 'been', 'haven', \"you're\", 'he', 'not', 'or', 'nor', 'hers', 'itself', 'but', 'them', 'too', \"that'll\", 'if', 'a', 'be', 'my', 'she', 'while', 'no', 'has', \"you've\", 'once', 're', 'our', 'from', 'we', 'ours', 'over', 'by', 'it', 'm', 'other', 'both', 'about', 'they', 'theirs', 'further', 'during', 'its', 'the', 'in', 'to', 'did', 'will', \"should've\", 'does', 'through', 'up', 'you', 'any', 'his', 'above', 'own', 'her', \"you'd\", \"haven't\", 'me', 'more', 'doesn', \"shan't\", 'with', 'out', 'when', 'again', 've', 'is', 'where', \"needn't\", 'most', \"mightn't\", 't', 'i', 'mustn', 'ma', \"isn't\", \"hadn't\", 'how', 'aren', 'yourselves', 'few', 'those', 'so', 'and', 'isn', 'than', 'hasn', 'doing', 'that', 'between', 'shouldn', 'of', 'myself', 'have', 'which', \"aren't\", 'was', 'didn', 'am', 'him', 'an', 'for', 'why', \"wasn't\", 'had', 'wouldn', 'against', 'such', 'should', 'won', 'couldn', 'do', \"weren't\", \"don't\", 'some', \"hasn't\", 'o', \"won't\", \"you'll\", 'are', 'y', 'd', 'needn', 'here', \"wouldn't\", 'ourselves', 'because', 'just', 'your', 'mightn', 'off', 'weren', 'having', \"it's\", 'all', 's', 'these', 'themselves', 'can', 'into', 'very', 'below', 'shan', 'at', 'were', 'there', 'this', 'hadn', 'whom', 'don', 'their', 'ain'}\n"
          ]
        }
      ]
    },
    {
      "cell_type": "code",
      "source": [
        "import re #for matching one string with other \"re\""
      ],
      "metadata": {
        "id": "xhxCBP8qQoC4"
      },
      "execution_count": null,
      "outputs": []
    },
    {
      "cell_type": "code",
      "source": [
        "text= \"How to remove stop words with NLTK library in Python?\"\n",
        "text= re.sub('[^a-zA-Z]', ' ',text)\n",
        "tokens = word_tokenize(text.lower())\n",
        "filtered_text=[]\n",
        "for w in tokens:\n",
        " if w not in stop_words:\n",
        "   filtered_text.append(w)\n",
        "print(\"Tokenized Sentence:\",tokens)\n",
        "print(\"Filterd Sentence:\",filtered_text)\n"
      ],
      "metadata": {
        "colab": {
          "base_uri": "https://localhost:8080/"
        },
        "id": "Vc2fhNWdQr04",
        "outputId": "0e5aed94-8706-43b4-db43-0bc4ec5ddf52"
      },
      "execution_count": null,
      "outputs": [
        {
          "output_type": "stream",
          "name": "stdout",
          "text": [
            "Tokenized Sentence: ['how', 'to', 'remove', 'stop', 'words', 'with', 'nltk', 'library', 'in', 'python']\n",
            "Filterd Sentence: ['remove', 'stop', 'words', 'nltk', 'library', 'python']\n"
          ]
        }
      ]
    },
    {
      "cell_type": "markdown",
      "source": [
        "for stemming: remove prefix and suffix"
      ],
      "metadata": {
        "id": "HLQAgbEIcHO2"
      }
    },
    {
      "cell_type": "code",
      "source": [
        "from nltk.stem import PorterStemmer\n",
        "e_words= [\"wait\", \"waiting\", \"waited\", \"waits\"]\n",
        "ps =PorterStemmer()\n",
        "for w in e_words:\n",
        " rootWord=ps.stem(w)\n",
        "print(rootWord)"
      ],
      "metadata": {
        "colab": {
          "base_uri": "https://localhost:8080/"
        },
        "id": "ZZpi1NJrQ5H5",
        "outputId": "954ca55b-8588-41e4-eabf-2ae7fd24da92"
      },
      "execution_count": null,
      "outputs": [
        {
          "output_type": "stream",
          "name": "stdout",
          "text": [
            "wait\n"
          ]
        }
      ]
    },
    {
      "cell_type": "code",
      "source": [
        "from nltk.stem import WordNetLemmatizer\n",
        "wordnet_lemmatizer = WordNetLemmatizer()\n",
        "text = \"studies studying cries cry\"\n",
        "tokenization = nltk.word_tokenize(text)\n",
        "for w in tokenization:\n",
        " print(\"Lemma for {} is {}\".format(w,\n",
        "wordnet_lemmatizer.lemmatize(w)))"
      ],
      "metadata": {
        "colab": {
          "base_uri": "https://localhost:8080/"
        },
        "id": "-csdTp2mRDOo",
        "outputId": "6378ca8a-c8d0-4670-d610-3098bcd1902b"
      },
      "execution_count": null,
      "outputs": [
        {
          "output_type": "stream",
          "name": "stdout",
          "text": [
            "Lemma for studies is study\n",
            "Lemma for studying is studying\n",
            "Lemma for cries is cry\n",
            "Lemma for cry is cry\n"
          ]
        }
      ]
    },
    {
      "cell_type": "code",
      "source": [
        "import nltk\n",
        "from nltk.tokenize import word_tokenize\n",
        "data=\"The pink sweater fit her perfectly\"\n",
        "words=word_tokenize(data)\n",
        "for word in words:\n",
        " print(nltk.pos_tag([word]))"
      ],
      "metadata": {
        "colab": {
          "base_uri": "https://localhost:8080/"
        },
        "id": "vo4cqmADRGs5",
        "outputId": "79b64c44-4ad7-413b-9c5d-5710abbbf0a7"
      },
      "execution_count": null,
      "outputs": [
        {
          "output_type": "stream",
          "name": "stdout",
          "text": [
            "[('The', 'DT')]\n",
            "[('pink', 'NN')]\n",
            "[('sweater', 'NN')]\n",
            "[('fit', 'NN')]\n",
            "[('her', 'PRP$')]\n",
            "[('perfectly', 'RB')]\n"
          ]
        }
      ]
    },
    {
      "cell_type": "markdown",
      "source": [
        "Lemmatization start"
      ],
      "metadata": {
        "id": "6eSKPl0XSbqk"
      }
    },
    {
      "cell_type": "code",
      "source": [
        "import nltk\n",
        "paragraph = \"\"\"I have three visions for India. In 3000 years of our history, peopl\n",
        " the world have come and invaded us, captured our lands, conquered ou\n",
        " Yet we have not done this to any other nation. We have not conquered\n",
        " We have not grabbed their land, their culture,\n",
        " their history and tried to enforce our way of life on them.\n",
        " Why? \"\"\"\n"
      ],
      "metadata": {
        "id": "rx7Nl59RRRwo"
      },
      "execution_count": null,
      "outputs": []
    },
    {
      "cell_type": "code",
      "source": [
        "import re\n",
        "from nltk.corpus import stopwords\n",
        "from nltk.stem import WordNetLemmatizer"
      ],
      "metadata": {
        "id": "mJU7Sd8dSWai"
      },
      "execution_count": null,
      "outputs": []
    },
    {
      "cell_type": "code",
      "source": [
        "wn=WordNetLemmatizer()\n",
        "sentences=nltk.sent_tokenize(paragraph)"
      ],
      "metadata": {
        "id": "3St3LWRbSh75"
      },
      "execution_count": null,
      "outputs": []
    },
    {
      "cell_type": "code",
      "source": [
        "import re\n",
        "from nltk.corpus import stopwords\n",
        "from nltk.stem import WordNetLemmatizer\n",
        "\n",
        "corpus = []\n",
        "wn = WordNetLemmatizer()\n",
        "stop_words = set(stopwords.words('english'))\n",
        "\n",
        "for sentence in sentences:\n",
        "    review = re.sub('[^a-zA-Z]', ' ', sentence) \n",
        "    review = review.lower()  \n",
        "    review = review.split() \n",
        "    review = [wn.lemmatize(word) for word in review if word not in stop_words] \n",
        "    review = ' '.join(review) \n",
        "    corpus.append(review)  \n"
      ],
      "metadata": {
        "id": "jpFjQgCrSkmp"
      },
      "execution_count": null,
      "outputs": []
    },
    {
      "cell_type": "code",
      "source": [
        "corpus"
      ],
      "metadata": {
        "colab": {
          "base_uri": "https://localhost:8080/"
        },
        "id": "91yoMHzSSteZ",
        "outputId": "7a04b74c-3bee-4afa-e800-18cff06ef1e8"
      },
      "execution_count": null,
      "outputs": [
        {
          "output_type": "execute_result",
          "data": {
            "text/plain": [
              "['three vision india',\n",
              " 'year history peopl world come invaded u captured land conquered ou yet done nation',\n",
              " 'conquered grabbed land culture history tried enforce way life',\n",
              " '']"
            ]
          },
          "metadata": {},
          "execution_count": 23
        }
      ]
    },
    {
      "cell_type": "markdown",
      "source": [
        "\n",
        "\n",
        "```\n",
        "# This is formatted as code\n",
        "```\n",
        "# Creating the Term Freq -Invers Dco Freq model\n",
        "\n"
      ],
      "metadata": {
        "id": "ossIPQEjYm9d"
      }
    },
    {
      "cell_type": "code",
      "source": [
        "\n",
        "from sklearn.feature_extraction.text import TfidfVectorizer\n",
        "tf=TfidfVectorizer()\n",
        "X=tf.fit_transform(corpus).toarray()\n",
        "print(X)"
      ],
      "metadata": {
        "colab": {
          "base_uri": "https://localhost:8080/"
        },
        "id": "RaRi6SC2T83J",
        "outputId": "6b02d27e-8272-4e72-d3c5-3e5a596cad70"
      },
      "execution_count": null,
      "outputs": [
        {
          "output_type": "stream",
          "name": "stdout",
          "text": [
            "[[0.         0.         0.         0.         0.         0.\n",
            "  0.         0.         0.57735027 0.         0.         0.\n",
            "  0.         0.         0.         0.57735027 0.         0.57735027\n",
            "  0.         0.         0.         0.        ]\n",
            " [0.29031548 0.29031548 0.22888806 0.         0.29031548 0.\n",
            "  0.         0.22888806 0.         0.29031548 0.22888806 0.\n",
            "  0.29031548 0.29031548 0.29031548 0.         0.         0.\n",
            "  0.         0.29031548 0.29031548 0.29031548]\n",
            " [0.         0.         0.28113163 0.35657982 0.         0.35657982\n",
            "  0.35657982 0.28113163 0.         0.         0.28113163 0.35657982\n",
            "  0.         0.         0.         0.         0.35657982 0.\n",
            "  0.35657982 0.         0.         0.        ]\n",
            " [0.         0.         0.         0.         0.         0.\n",
            "  0.         0.         0.         0.         0.         0.\n",
            "  0.         0.         0.         0.         0.         0.\n",
            "  0.         0.         0.         0.        ]]\n"
          ]
        }
      ]
    },
    {
      "cell_type": "code",
      "source": [],
      "metadata": {
        "id": "Ns-u1xHSY0V7"
      },
      "execution_count": null,
      "outputs": []
    }
  ]
}